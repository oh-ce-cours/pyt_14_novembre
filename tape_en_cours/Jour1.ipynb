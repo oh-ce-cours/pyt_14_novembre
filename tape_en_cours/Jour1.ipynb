{
 "cells": [
  {
   "cell_type": "markdown",
   "id": "3c28143f-d42c-4999-9bdf-36f323622fc7",
   "metadata": {},
   "source": [
    "# Jour 1\n",
    "\n",
    "## Matin \n",
    "\n",
    "* anaconda \n",
    "    * installer \n",
    "    * contient à la fois\n",
    "        * l'interpréteur python \n",
    "        * gestionnaire d'environnement \n",
    "        * livré avec beaucoup de paquets tiers\n",
    " \n",
    "* spyder\n",
    "    * éditeur de code python / copie de l'interface de matlab\n",
    "    * lancé depuis anaconda explorer ou depuis une commande windows (il faut faire attention à l'environemment) \n",
    "    \n"
   ]
  },
  {
   "cell_type": "markdown",
   "id": "a17675f9-a029-4154-b295-465e1cb8be5b",
   "metadata": {},
   "source": [
    "## Après-midi "
   ]
  },
  {
   "cell_type": "markdown",
   "id": "cc896a4e-4161-4003-873b-4cf3a156963a",
   "metadata": {},
   "source": [
    "On peut écrire des chaines avec des \" ou des '"
   ]
  },
  {
   "cell_type": "code",
   "execution_count": 1,
   "id": "9c519708-717a-424d-b965-249964e0a594",
   "metadata": {},
   "outputs": [
    {
     "data": {
      "text/plain": [
       "True"
      ]
     },
     "execution_count": 1,
     "metadata": {},
     "output_type": "execute_result"
    }
   ],
   "source": [
    "ma_chaine = \"salut TRT\"\n",
    "ma_chaine2 = 'salut TRT'\n",
    "\n",
    "ma_chaine == ma_chaine2"
   ]
  },
  {
   "cell_type": "code",
   "execution_count": 2,
   "id": "808e0faf-69eb-4c2b-9320-5736aae499c2",
   "metadata": {},
   "outputs": [
    {
     "data": {
      "text/plain": [
       "\"Le résultat de l'analyse '   2' est 3.237\""
      ]
     },
     "execution_count": 2,
     "metadata": {},
     "output_type": "execute_result"
    }
   ],
   "source": [
    "# on veut générer la phrase :\n",
    "# Le résultat de l'analyse 2 est 3.43\n",
    "analyse_id = 2\n",
    "res = 3.2365434565456\n",
    "f\"Le résultat de l'analyse '{analyse_id:>4}' est {res:.4}\""
   ]
  },
  {
   "cell_type": "code",
   "execution_count": 3,
   "id": "f0c67852-8c37-49cf-8d15-ac80dded24d7",
   "metadata": {},
   "outputs": [
    {
     "name": "stdout",
     "output_type": "stream",
     "text": [
      "Le résultat de l'analyse '0002' est 3.237\n",
      "Le résultat de l'analyse '2   ' est 3.237\n",
      "Le résultat de l'analyse ' 2  ' est 3.237\n"
     ]
    }
   ],
   "source": [
    "print(f\"Le résultat de l'analyse '{analyse_id:0>4}' est {res:.4}\")\n",
    "print(f\"Le résultat de l'analyse '{analyse_id:<4}' est {res:.4}\")\n",
    "print(f\"Le résultat de l'analyse '{analyse_id:^4}' est {res:.4}\")"
   ]
  },
  {
   "cell_type": "code",
   "execution_count": 4,
   "id": "f1e4a546-704d-489f-9b2c-372636682b81",
   "metadata": {},
   "outputs": [
    {
     "name": "stdout",
     "output_type": "stream",
     "text": [
      "Le résultat de l'analyse '0008' est 3.237\n",
      "Le résultat de l'analyse '0010' est 3.237\n",
      "Le résultat de l'analyse '0012' est 3.237\n",
      "Le résultat de l'analyse '0014' est 3.237\n",
      "Le résultat de l'analyse '0016' est 3.237\n",
      "Le résultat de l'analyse '0018' est 3.237\n",
      "Le résultat de l'analyse '0020' est 3.237\n",
      "Le résultat de l'analyse '0022' est 3.237\n",
      "Le résultat de l'analyse '0024' est 3.237\n",
      "Le résultat de l'analyse '0026' est 3.237\n",
      "Le résultat de l'analyse '0028' est 3.237\n",
      "Le résultat de l'analyse '0030' est 3.237\n",
      "Le résultat de l'analyse '0032' est 3.237\n",
      "Le résultat de l'analyse '0034' est 3.237\n",
      "Le résultat de l'analyse '0036' est 3.237\n",
      "Le résultat de l'analyse '0038' est 3.237\n",
      "Le résultat de l'analyse '0040' est 3.237\n",
      "Le résultat de l'analyse '0042' est 3.237\n",
      "Le résultat de l'analyse '0044' est 3.237\n",
      "Le résultat de l'analyse '0046' est 3.237\n",
      "Le résultat de l'analyse '0048' est 3.237\n",
      "Le résultat de l'analyse '0050' est 3.237\n",
      "Le résultat de l'analyse '0052' est 3.237\n",
      "Le résultat de l'analyse '0054' est 3.237\n",
      "Le résultat de l'analyse '0056' est 3.237\n",
      "Le résultat de l'analyse '0058' est 3.237\n",
      "Le résultat de l'analyse '0060' est 3.237\n",
      "Le résultat de l'analyse '0062' est 3.237\n",
      "Le résultat de l'analyse '0064' est 3.237\n",
      "Le résultat de l'analyse '0066' est 3.237\n",
      "Le résultat de l'analyse '0068' est 3.237\n",
      "Le résultat de l'analyse '0070' est 3.237\n",
      "Le résultat de l'analyse '0072' est 3.237\n",
      "Le résultat de l'analyse '0074' est 3.237\n",
      "Le résultat de l'analyse '0076' est 3.237\n",
      "Le résultat de l'analyse '0078' est 3.237\n",
      "Le résultat de l'analyse '0080' est 3.237\n",
      "Le résultat de l'analyse '0082' est 3.237\n",
      "Le résultat de l'analyse '0084' est 3.237\n",
      "Le résultat de l'analyse '0086' est 3.237\n",
      "Le résultat de l'analyse '0088' est 3.237\n",
      "Le résultat de l'analyse '0090' est 3.237\n",
      "Le résultat de l'analyse '0092' est 3.237\n",
      "Le résultat de l'analyse '0094' est 3.237\n",
      "Le résultat de l'analyse '0096' est 3.237\n",
      "Le résultat de l'analyse '0098' est 3.237\n",
      "Le résultat de l'analyse '0100' est 3.237\n",
      "Le résultat de l'analyse '0102' est 3.237\n",
      "Le résultat de l'analyse '0104' est 3.237\n"
     ]
    }
   ],
   "source": [
    "for analyse_id in range(8, 106, 2):\n",
    "    print(f\"Le résultat de l'analyse '{analyse_id:0>4}' est {res:.4}\")"
   ]
  },
  {
   "cell_type": "markdown",
   "id": "e37b8b3c-5bf7-488e-b3eb-0d617b9b1bed",
   "metadata": {},
   "source": [
    "Le formatage permet de représenter des données au format octal, hexa, ..."
   ]
  },
  {
   "cell_type": "code",
   "execution_count": 5,
   "id": "ef2d85de-c3ae-4c53-bcce-7c5f54e3a87d",
   "metadata": {},
   "outputs": [
    {
     "name": "stdout",
     "output_type": "stream",
     "text": [
      "172044000\n"
     ]
    }
   ],
   "source": [
    "a = 32_000_000\n",
    "print(f\"{a:o}\")"
   ]
  },
  {
   "cell_type": "markdown",
   "id": "5402f330-1d1f-47e0-89ab-f596f32059b4",
   "metadata": {},
   "source": [
    "## Mesure des temps"
   ]
  },
  {
   "cell_type": "code",
   "execution_count": 6,
   "id": "0627879e-4b28-4118-85a8-9ef5eae72f88",
   "metadata": {},
   "outputs": [],
   "source": [
    "import time"
   ]
  },
  {
   "cell_type": "code",
   "execution_count": 7,
   "id": "2e643472-bdba-4170-b656-daa2c096e927",
   "metadata": {},
   "outputs": [
    {
     "name": "stdout",
     "output_type": "stream",
     "text": [
      "0.006013393402099609\n"
     ]
    }
   ],
   "source": [
    "tic = time.time()\n",
    "time.sleep(1e-10)\n",
    "print(time.time() - tic)"
   ]
  },
  {
   "cell_type": "code",
   "execution_count": 8,
   "id": "1098af57-c0af-4ea2-8f92-bf75bcd4df59",
   "metadata": {},
   "outputs": [],
   "source": [
    "import math\n",
    "import numpy\n",
    "\n",
    "a = [1, 2, 3] * 10000\n",
    "b = numpy.array(a)"
   ]
  },
  {
   "cell_type": "code",
   "execution_count": 9,
   "id": "01d75442-1e64-410f-aae9-c43f8830c622",
   "metadata": {},
   "outputs": [
    {
     "name": "stdout",
     "output_type": "stream",
     "text": [
      "340 µs ± 34.8 µs per loop (mean ± std. dev. of 7 runs, 1000 loops each)\n"
     ]
    }
   ],
   "source": [
    "%timeit numpy.cos(b)"
   ]
  },
  {
   "cell_type": "code",
   "execution_count": 10,
   "id": "0a9b6c5d-3e5f-4b43-a5a2-bd0ef966b501",
   "metadata": {},
   "outputs": [
    {
     "name": "stdout",
     "output_type": "stream",
     "text": [
      "8.08 ms ± 1.22 ms per loop (mean ± std. dev. of 7 runs, 100 loops each)\n"
     ]
    }
   ],
   "source": [
    "%timeit [math.cos(i) for i in a]"
   ]
  },
  {
   "cell_type": "code",
   "execution_count": 11,
   "id": "b72e0bda-cd9f-40af-9552-eb3a2cc5b674",
   "metadata": {},
   "outputs": [],
   "source": [
    "res = [math.cos(i) for i in a]\n",
    "####\n",
    "res = []\n",
    "for i in a:\n",
    "    res.append(math.cos(i))"
   ]
  },
  {
   "cell_type": "code",
   "execution_count": null,
   "id": "e03eb45f-07e6-444b-9dec-0a4810a4defd",
   "metadata": {},
   "outputs": [],
   "source": []
  }
 ],
 "metadata": {
  "kernelspec": {
   "display_name": "Python 3",
   "language": "python",
   "name": "python3"
  },
  "language_info": {
   "codemirror_mode": {
    "name": "ipython",
    "version": 3
   },
   "file_extension": ".py",
   "mimetype": "text/x-python",
   "name": "python",
   "nbconvert_exporter": "python",
   "pygments_lexer": "ipython3",
   "version": "3.10.6"
  }
 },
 "nbformat": 4,
 "nbformat_minor": 5
}
