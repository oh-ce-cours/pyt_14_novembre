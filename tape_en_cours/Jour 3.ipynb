{
 "cells": [
  {
   "cell_type": "markdown",
   "id": "7b972852",
   "metadata": {},
   "source": [
    "# Installation d'environnements\n",
    "\n",
    "* on utilise conda\n",
    "    * on liste les dépendances d'un projet : `conda list -e > requirements.txt`\n",
    "    * on les installe : `conda create --name <env> --file requirements.txt`\n",
    "    \n",
    "## Sans internet\n",
    "\n",
    "* on utilise un ordinateur qui a internet\n",
    "    * on installe les paquets nécessaires au projet \n",
    "    * solution 1 (pas terrible) : on peut copier le `site-packages` de l'environnement \n",
    "    * solution 2 (mieux) : https://thilinamad.medium.com/install-python-packages-via-pip-without-an-internet-connection-b3dee83b4c2d\n",
    "        * la clé pour installer tous les paquets : \n",
    "            * `pip download -r requirements.txt C:\\dossier\\ou\\on\\veut`\n",
    "            * `pip install --no-index --find-links=<local-folder> <package-name> `"
   ]
  },
  {
   "cell_type": "markdown",
   "id": "bbb78f35",
   "metadata": {},
   "source": [
    "# Fonctions"
   ]
  },
  {
   "cell_type": "code",
   "execution_count": 13,
   "id": "cc388f02",
   "metadata": {},
   "outputs": [],
   "source": [
    "def f(x, debug=False):\n",
    "    if debug:\n",
    "        print(\"on debug\")\n",
    "    return 3*x + 2"
   ]
  },
  {
   "cell_type": "code",
   "execution_count": 7,
   "id": "9c592cd5",
   "metadata": {},
   "outputs": [
    {
     "name": "stdout",
     "output_type": "stream",
     "text": [
      "on debug\n"
     ]
    },
    {
     "data": {
      "text/plain": [
       "11"
      ]
     },
     "execution_count": 7,
     "metadata": {},
     "output_type": "execute_result"
    }
   ],
   "source": [
    "f(3, True)\n",
    "f(3, debug=True)\n",
    "f(x=3, debug=True)"
   ]
  },
  {
   "cell_type": "code",
   "execution_count": 12,
   "id": "ab1fbc1a",
   "metadata": {},
   "outputs": [
    {
     "name": "stdout",
     "output_type": "stream",
     "text": [
      "2--3--4--5\n"
     ]
    }
   ],
   "source": [
    "print(2, 3, 4, 5, sep=\"--\")"
   ]
  },
  {
   "cell_type": "code",
   "execution_count": 14,
   "id": "047bf9d2",
   "metadata": {},
   "outputs": [
    {
     "data": {
      "text/plain": [
       "<function __main__.<lambda>(x)>"
      ]
     },
     "execution_count": 14,
     "metadata": {},
     "output_type": "execute_result"
    }
   ],
   "source": [
    "lambda x: 3*x+2"
   ]
  },
  {
   "cell_type": "code",
   "execution_count": 17,
   "id": "17b7da1b",
   "metadata": {},
   "outputs": [],
   "source": [
    "ma_liste = [(3, \"r\"), (2, \"x\"), (1, 'a')]\n",
    "sorted?"
   ]
  },
  {
   "cell_type": "code",
   "execution_count": 19,
   "id": "c93cbeb7",
   "metadata": {},
   "outputs": [
    {
     "data": {
      "text/plain": [
       "['a', 'z']"
      ]
     },
     "execution_count": 19,
     "metadata": {},
     "output_type": "execute_result"
    }
   ],
   "source": [
    "sorted([\"z\", \"a\"])"
   ]
  },
  {
   "cell_type": "markdown",
   "id": "a8fbfb2f",
   "metadata": {},
   "source": [
    "```\n",
    "def my_sorted(iterable, key=None, reverse=False):\n",
    "    for old_item, item in ...(iterable):\n",
    "        if key(old_item) < key(item):\n",
    "            swap\n",
    "        else:\n",
    "            pass \n",
    "```"
   ]
  },
  {
   "cell_type": "code",
   "execution_count": 40,
   "id": "961bd39d",
   "metadata": {},
   "outputs": [
    {
     "data": {
      "text/plain": [
       "[(2, 'x'), (3, 'r'), (1, 'a')]"
      ]
     },
     "execution_count": 40,
     "metadata": {},
     "output_type": "execute_result"
    }
   ],
   "source": [
    "import random \n",
    "\n",
    "ma_liste = [(3, \"r\"), (2, \"x\"), (1, 'a')]\n",
    "def ma_fonction(item):\n",
    "    # print(item)\n",
    "    return random.random()\n",
    "\n",
    "sorted(ma_liste, key=ma_fonction)"
   ]
  },
  {
   "cell_type": "code",
   "execution_count": 41,
   "id": "73a55ddb",
   "metadata": {},
   "outputs": [
    {
     "data": {
      "text/plain": [
       "[(1, 'a'), (3, 'r'), (2, 'x')]"
      ]
     },
     "execution_count": 41,
     "metadata": {},
     "output_type": "execute_result"
    }
   ],
   "source": [
    "import random \n",
    "\n",
    "ma_liste = [(3, \"r\"), (2, \"x\"), (1, 'a')]\n",
    "sorted(ma_liste, key=lambda x: x[1])"
   ]
  },
  {
   "cell_type": "code",
   "execution_count": 160,
   "id": "f74df767",
   "metadata": {},
   "outputs": [],
   "source": [
    "class Vehicule:\n",
    "    def __init__(self):\n",
    "        self.son = \"vroum\"\n",
    "        self.etat = \"arretée\"\n",
    "\n",
    "class Moteur:\n",
    "    def __init__(self, cylindre):\n",
    "        self.cylindre = cylindre\n",
    "        \n",
    "class Voiture(Vehicule): # Véhicule est la classe mère\n",
    "    nombre_de_roues = 4 # variable de classe\n",
    "    \n",
    "    def __init__(self, couleur=\"blanc\"):\n",
    "        print(\"dans init\", self, couleur)\n",
    "        self.color = couleur\n",
    "        moteur = Moteur(4) # composition\n",
    "        self.moteur = moteur\n",
    "        super().__init__()\n",
    "    \n",
    "    def demarrer(self):\n",
    "        print(\"dans demarrer\", self)\n",
    "        self.etat = \"roule\"\n",
    "    \n",
    "    def repeindre(self, couleur):\n",
    "        self.color = couleur"
   ]
  },
  {
   "cell_type": "code",
   "execution_count": 163,
   "id": "2df2ce83",
   "metadata": {},
   "outputs": [
    {
     "name": "stdout",
     "output_type": "stream",
     "text": [
      "dans init <__main__.Voiture object at 0x000002683E93E410> blanc\n",
      "dans init <__main__.Voiture object at 0x000002683E3D8D60> beige\n",
      "<class '__main__.Voiture'>\n",
      "4\n",
      "8\n"
     ]
    }
   ],
   "source": [
    "cabriolet = Voiture() # on définit un objet, une instance de voiture\n",
    "mustang = Voiture(couleur=\"beige\")\n",
    "print(type(cabriolet))\n",
    "\n",
    "print(mustang.moteur.cylindre)\n",
    "mustang.moteur = Moteur(8)\n",
    "print(mustang.moteur.cylindre)"
   ]
  },
  {
   "cell_type": "code",
   "execution_count": 159,
   "id": "6770e466",
   "metadata": {},
   "outputs": [
    {
     "name": "stdout",
     "output_type": "stream",
     "text": [
      "<__main__.Voiture object at 0x000002683E3D9210>\n",
      "dans demarrer <__main__.Voiture object at 0x000002683E3D9210>\n",
      "\n",
      "<__main__.Voiture object at 0x000002683E3DA560>\n",
      "dans demarrer <__main__.Voiture object at 0x000002683E3DA560>\n"
     ]
    }
   ],
   "source": [
    "print(cabriolet)\n",
    "cabriolet.demarrer()\n",
    "print(\"\")\n",
    "print(mustang)\n",
    "mustang.demarrer()"
   ]
  },
  {
   "cell_type": "code",
   "execution_count": 116,
   "id": "57f7e7df",
   "metadata": {},
   "outputs": [
    {
     "name": "stdout",
     "output_type": "stream",
     "text": [
      "blanc\n",
      "vert\n"
     ]
    }
   ],
   "source": [
    "print(cabriolet.color)\n",
    "cabriolet.color = \"vert\"\n",
    "print(cabriolet.color)"
   ]
  },
  {
   "cell_type": "code",
   "execution_count": 117,
   "id": "32934656",
   "metadata": {},
   "outputs": [
    {
     "name": "stdout",
     "output_type": "stream",
     "text": [
      "VROUMMMM\n",
      "vroum\n"
     ]
    }
   ],
   "source": [
    "cabriolet.son = \"VROUMMMM\"\n",
    "print(cabriolet.son)\n",
    "\n",
    "print(mustang.son)"
   ]
  },
  {
   "cell_type": "code",
   "execution_count": 118,
   "id": "0ac3c489",
   "metadata": {},
   "outputs": [
    {
     "name": "stdout",
     "output_type": "stream",
     "text": [
      "dans init <__main__.Voiture object at 0x000002683E25A2F0> blanc\n",
      "arretée\n",
      "dans demarrer <__main__.Voiture object at 0x000002683E25A2F0>\n",
      "roule\n"
     ]
    }
   ],
   "source": [
    "v = Voiture()\n",
    "print(v.etat)\n",
    "v.demarrer()\n",
    "print(v.etat)"
   ]
  },
  {
   "cell_type": "code",
   "execution_count": 119,
   "id": "599be0b9",
   "metadata": {},
   "outputs": [],
   "source": [
    "Voiture.nombre_de_roues = 3\n",
    "cabriolet.nombre_de_roues = 5"
   ]
  },
  {
   "cell_type": "code",
   "execution_count": 120,
   "id": "b594ea72",
   "metadata": {},
   "outputs": [
    {
     "data": {
      "text/plain": [
       "(5, 3)"
      ]
     },
     "execution_count": 120,
     "metadata": {},
     "output_type": "execute_result"
    }
   ],
   "source": [
    "cabriolet.nombre_de_roues, mustang.nombre_de_roues"
   ]
  },
  {
   "cell_type": "code",
   "execution_count": 121,
   "id": "da46c339",
   "metadata": {},
   "outputs": [
    {
     "data": {
      "text/plain": [
       "False"
      ]
     },
     "execution_count": 121,
     "metadata": {},
     "output_type": "execute_result"
    }
   ],
   "source": [
    "isinstance(2, str)"
   ]
  },
  {
   "cell_type": "code",
   "execution_count": 123,
   "id": "c7d601d1",
   "metadata": {},
   "outputs": [
    {
     "data": {
      "text/plain": [
       "(True, True)"
      ]
     },
     "execution_count": 123,
     "metadata": {},
     "output_type": "execute_result"
    }
   ],
   "source": [
    "isinstance(mustang, Voiture), isinstance(mustang, Vehicule)"
   ]
  },
  {
   "cell_type": "code",
   "execution_count": 144,
   "id": "11f704a0",
   "metadata": {},
   "outputs": [],
   "source": [
    "class A:\n",
    "    def __init__(self):\n",
    "        print(\"dans init A\")\n",
    "    \n",
    "    def methode_A(self):\n",
    "        print(\"dans methode_A\")\n",
    "    \n",
    "    def methode_B(self):\n",
    "        print(\"dans methode_B de A\")\n",
    "        \n",
    "class B(A):\n",
    "    def __init__(self):\n",
    "        print(\"dans init B\")\n",
    "        super().__init__()\n",
    "        \n",
    "    def methode_B(self):\n",
    "        super().methode_B()\n",
    "        print(\"dans methode_B\")"
   ]
  },
  {
   "cell_type": "code",
   "execution_count": 142,
   "id": "1251f792",
   "metadata": {},
   "outputs": [
    {
     "name": "stdout",
     "output_type": "stream",
     "text": [
      "dans init A\n"
     ]
    }
   ],
   "source": [
    "a = A()"
   ]
  },
  {
   "cell_type": "code",
   "execution_count": 143,
   "id": "1505424a",
   "metadata": {},
   "outputs": [
    {
     "name": "stdout",
     "output_type": "stream",
     "text": [
      "dans init A\n",
      "dans init B\n",
      "dans init A\n",
      "dans methode_B\n",
      "dans methode_A\n"
     ]
    }
   ],
   "source": [
    "b = B()\n",
    "b.methode_B()\n",
    "b.methode_A()"
   ]
  },
  {
   "cell_type": "markdown",
   "id": "e407ebd2",
   "metadata": {},
   "source": [
    "# Copy"
   ]
  },
  {
   "cell_type": "code",
   "execution_count": 172,
   "id": "7a977bcd",
   "metadata": {},
   "outputs": [
    {
     "name": "stdout",
     "output_type": "stream",
     "text": [
      "[1, 2, 3] [1, 2, 3]\n",
      "[22, 2, 3] [22, 2, 3]\n",
      "2646702238400 2646702238400\n",
      "2646627648400 2646627648400\n"
     ]
    }
   ],
   "source": [
    "a = [1, 2, 3]\n",
    "b = a\n",
    "\n",
    "print(a, b)\n",
    "\n",
    "a[0] = 22\n",
    "print(a, b)\n",
    "print(id(a), id(b))\n",
    "print(id(a[0]), id(b[0]))"
   ]
  },
  {
   "cell_type": "code",
   "execution_count": 173,
   "id": "e9f0e795",
   "metadata": {},
   "outputs": [
    {
     "name": "stdout",
     "output_type": "stream",
     "text": [
      "[1, 2, 3] [1, 2, 3]\n",
      "[22, 2, 3] [1, 2, 3]\n",
      "2646748070144 2646748014976\n",
      "2646627648400 2646627647728\n"
     ]
    }
   ],
   "source": [
    "import copy\n",
    "\n",
    "a = [1, 2, 3]\n",
    "b = copy.copy(a)\n",
    "\n",
    "print(a, b)\n",
    "\n",
    "a[0] = 22\n",
    "print(a, b)\n",
    "\n",
    "print(id(a), id(b))\n",
    "print(id(a[0]), id(b[0]))"
   ]
  },
  {
   "cell_type": "code",
   "execution_count": 179,
   "id": "dd465236",
   "metadata": {
    "scrolled": true
   },
   "outputs": [
    {
     "name": "stdout",
     "output_type": "stream",
     "text": [
      "[[1], [2], [3]] [[1], [2], [3]]\n",
      "[[22], [2], [3]] [[1], [2], [3]]\n",
      "2646748291520 2646747230784\n",
      "2646747850944 2646748299200\n"
     ]
    }
   ],
   "source": [
    "import copy\n",
    "\n",
    "a = [\n",
    "    [1], [2], [3]\n",
    "]\n",
    "b = copy.deepcopy(a)\n",
    "\n",
    "print(a, b)\n",
    "\n",
    "a[0][0] = 22\n",
    "print(a, b)\n",
    "\n",
    "print(id(a), id(b))\n",
    "print(id(a[0]), id(b[0]))"
   ]
  },
  {
   "cell_type": "code",
   "execution_count": 183,
   "id": "f4018124",
   "metadata": {},
   "outputs": [
    {
     "name": "stdout",
     "output_type": "stream",
     "text": [
      "[[0. 0. 0. 0. 0.]\n",
      " [0. 0. 0. 0. 0.]\n",
      " [0. 0. 0. 0. 0.]\n",
      " [0. 0. 0. 0. 0.]\n",
      " [0. 0. 0. 0. 0.]]\n"
     ]
    }
   ],
   "source": [
    "import numpy as np\n",
    "\n",
    "def f():\n",
    "    res = np.zeros((5, 5))\n",
    "    return res\n",
    "\n",
    "print(f())"
   ]
  },
  {
   "cell_type": "code",
   "execution_count": null,
   "id": "42ea3172",
   "metadata": {},
   "outputs": [],
   "source": []
  }
 ],
 "metadata": {
  "kernelspec": {
   "display_name": "Python 3",
   "language": "python",
   "name": "python3"
  },
  "language_info": {
   "codemirror_mode": {
    "name": "ipython",
    "version": 3
   },
   "file_extension": ".py",
   "mimetype": "text/x-python",
   "name": "python",
   "nbconvert_exporter": "python",
   "pygments_lexer": "ipython3",
   "version": "3.10.6"
  }
 },
 "nbformat": 4,
 "nbformat_minor": 5
}
