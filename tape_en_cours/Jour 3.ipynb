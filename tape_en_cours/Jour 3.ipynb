{
 "cells": [
  {
   "cell_type": "markdown",
   "id": "f6e9a449",
   "metadata": {},
   "source": [
    "# Installation d'environnements\n",
    "\n",
    "* on utilise conda\n",
    "    * on liste les dépendances d'un projet : `conda list -e > requirements.txt`\n",
    "    * on les installe : `conda create --name <env> --file requirements.txt`\n",
    "    \n",
    "## Sans internet\n",
    "\n",
    "* on utilise un ordinateur qui a internet\n",
    "    * on installe les paquets nécessaires au projet \n",
    "    * solution 1 (pas terrible) : on peut copier le `site-packages` de l'environnement \n",
    "    * solution 2 (mieux) : https://thilinamad.medium.com/install-python-packages-via-pip-without-an-internet-connection-b3dee83b4c2d\n",
    "        * la clé pour installer tous les paquets : \n",
    "            * `pip download -r requirements.txt C:\\dossier\\ou\\on\\veut`\n",
    "            * `pip install --no-index --find-links=<local-folder> <package-name> `"
   ]
  },
  {
   "cell_type": "markdown",
   "id": "e42d5c53",
   "metadata": {},
   "source": [
    "# Fonctions"
   ]
  },
  {
   "cell_type": "code",
   "execution_count": 13,
   "id": "08b582a8",
   "metadata": {},
   "outputs": [],
   "source": [
    "def f(x, debug=False):\n",
    "    if debug:\n",
    "        print(\"on debug\")\n",
    "    return 3*x + 2"
   ]
  },
  {
   "cell_type": "code",
   "execution_count": 7,
   "id": "d024d4e5",
   "metadata": {},
   "outputs": [
    {
     "name": "stdout",
     "output_type": "stream",
     "text": [
      "on debug\n"
     ]
    },
    {
     "data": {
      "text/plain": [
       "11"
      ]
     },
     "execution_count": 7,
     "metadata": {},
     "output_type": "execute_result"
    }
   ],
   "source": [
    "f(3, True)\n",
    "f(3, debug=True)\n",
    "f(x=3, debug=True)"
   ]
  },
  {
   "cell_type": "code",
   "execution_count": 12,
   "id": "e858db0c",
   "metadata": {},
   "outputs": [
    {
     "name": "stdout",
     "output_type": "stream",
     "text": [
      "2--3--4--5\n"
     ]
    }
   ],
   "source": [
    "print(2, 3, 4, 5, sep=\"--\")"
   ]
  },
  {
   "cell_type": "code",
   "execution_count": 14,
   "id": "c6cfebad",
   "metadata": {},
   "outputs": [
    {
     "data": {
      "text/plain": [
       "<function __main__.<lambda>(x)>"
      ]
     },
     "execution_count": 14,
     "metadata": {},
     "output_type": "execute_result"
    }
   ],
   "source": [
    "lambda x: 3*x+2"
   ]
  },
  {
   "cell_type": "code",
   "execution_count": 17,
   "id": "a41496d5",
   "metadata": {},
   "outputs": [],
   "source": [
    "ma_liste = [(3, \"r\"), (2, \"x\"), (1, 'a')]\n",
    "sorted?"
   ]
  },
  {
   "cell_type": "code",
   "execution_count": 19,
   "id": "a8374a8d",
   "metadata": {},
   "outputs": [
    {
     "data": {
      "text/plain": [
       "['a', 'z']"
      ]
     },
     "execution_count": 19,
     "metadata": {},
     "output_type": "execute_result"
    }
   ],
   "source": [
    "sorted([\"z\", \"a\"])"
   ]
  },
  {
   "cell_type": "markdown",
   "id": "e21d63af",
   "metadata": {},
   "source": [
    "```\n",
    "def my_sorted(iterable, key=None, reverse=False):\n",
    "    for old_item, item in ...(iterable):\n",
    "        if key(old_item) < key(item):\n",
    "            swap\n",
    "        else:\n",
    "            pass \n",
    "```"
   ]
  },
  {
   "cell_type": "code",
   "execution_count": 40,
   "id": "63a902ea",
   "metadata": {},
   "outputs": [
    {
     "data": {
      "text/plain": [
       "[(2, 'x'), (3, 'r'), (1, 'a')]"
      ]
     },
     "execution_count": 40,
     "metadata": {},
     "output_type": "execute_result"
    }
   ],
   "source": [
    "import random \n",
    "\n",
    "ma_liste = [(3, \"r\"), (2, \"x\"), (1, 'a')]\n",
    "def ma_fonction(item):\n",
    "    # print(item)\n",
    "    return random.random()\n",
    "\n",
    "sorted(ma_liste, key=ma_fonction)"
   ]
  },
  {
   "cell_type": "code",
   "execution_count": 41,
   "id": "2bc0f508",
   "metadata": {},
   "outputs": [
    {
     "data": {
      "text/plain": [
       "[(1, 'a'), (3, 'r'), (2, 'x')]"
      ]
     },
     "execution_count": 41,
     "metadata": {},
     "output_type": "execute_result"
    }
   ],
   "source": [
    "import random \n",
    "\n",
    "ma_liste = [(3, \"r\"), (2, \"x\"), (1, 'a')]\n",
    "sorted(ma_liste, key=lambda x: x[1])"
   ]
  },
  {
   "cell_type": "code",
   "execution_count": 113,
   "id": "c7bf43ad",
   "metadata": {},
   "outputs": [],
   "source": [
    "class Vehicule:\n",
    "    pass\n",
    "\n",
    "class Voiture(Vehicule): # Véhicule est la classe mère\n",
    "    nombre_de_roues = 4 # variable de classe\n",
    "    \n",
    "    def __init__(self, couleur=\"blanc\"):\n",
    "        print(\"dans init\", self, couleur)\n",
    "        self.color = couleur\n",
    "        self.son = \"vroum\"\n",
    "        self.etat = \"arretée\"\n",
    "    \n",
    "    def demarrer(self):\n",
    "        print(\"dans demarrer\", self)\n",
    "        self.etat = \"roule\"\n",
    "    \n",
    "    def repeindre(self, couleur):\n",
    "        self.color = couleur"
   ]
  },
  {
   "cell_type": "code",
   "execution_count": 114,
   "id": "f9e35075",
   "metadata": {},
   "outputs": [
    {
     "name": "stdout",
     "output_type": "stream",
     "text": [
      "dans init <__main__.Voiture object at 0x000002683E25A110> blanc\n",
      "dans init <__main__.Voiture object at 0x000002683E2594B0> beige\n",
      "<class '__main__.Voiture'>\n"
     ]
    }
   ],
   "source": [
    "cabriolet = Voiture() # on définit un objet, une instance de voiture\n",
    "mustang = Voiture(couleur=\"beige\")\n",
    "print(type(cabriolet))"
   ]
  },
  {
   "cell_type": "code",
   "execution_count": 115,
   "id": "43e8f7a0",
   "metadata": {},
   "outputs": [
    {
     "name": "stdout",
     "output_type": "stream",
     "text": [
      "<__main__.Voiture object at 0x000002683E25A110>\n",
      "dans demarrer <__main__.Voiture object at 0x000002683E25A110>\n",
      "\n",
      "<__main__.Voiture object at 0x000002683E2594B0>\n",
      "dans demarrer <__main__.Voiture object at 0x000002683E2594B0>\n"
     ]
    }
   ],
   "source": [
    "print(cabriolet)\n",
    "cabriolet.demarrer()\n",
    "print(\"\")\n",
    "print(mustang)\n",
    "mustang.demarrer()"
   ]
  },
  {
   "cell_type": "code",
   "execution_count": 116,
   "id": "775696d4",
   "metadata": {},
   "outputs": [
    {
     "name": "stdout",
     "output_type": "stream",
     "text": [
      "blanc\n",
      "vert\n"
     ]
    }
   ],
   "source": [
    "print(cabriolet.color)\n",
    "cabriolet.color = \"vert\"\n",
    "print(cabriolet.color)"
   ]
  },
  {
   "cell_type": "code",
   "execution_count": 117,
   "id": "caaafe5f",
   "metadata": {},
   "outputs": [
    {
     "name": "stdout",
     "output_type": "stream",
     "text": [
      "VROUMMMM\n",
      "vroum\n"
     ]
    }
   ],
   "source": [
    "cabriolet.son = \"VROUMMMM\"\n",
    "print(cabriolet.son)\n",
    "\n",
    "print(mustang.son)"
   ]
  },
  {
   "cell_type": "code",
   "execution_count": 118,
   "id": "90fe53cb",
   "metadata": {},
   "outputs": [
    {
     "name": "stdout",
     "output_type": "stream",
     "text": [
      "dans init <__main__.Voiture object at 0x000002683E25A2F0> blanc\n",
      "arretée\n",
      "dans demarrer <__main__.Voiture object at 0x000002683E25A2F0>\n",
      "roule\n"
     ]
    }
   ],
   "source": [
    "v = Voiture()\n",
    "print(v.etat)\n",
    "v.demarrer()\n",
    "print(v.etat)"
   ]
  },
  {
   "cell_type": "code",
   "execution_count": 119,
   "id": "46364340",
   "metadata": {},
   "outputs": [],
   "source": [
    "Voiture.nombre_de_roues = 3\n",
    "cabriolet.nombre_de_roues = 5"
   ]
  },
  {
   "cell_type": "code",
   "execution_count": 120,
   "id": "bd54f969",
   "metadata": {},
   "outputs": [
    {
     "data": {
      "text/plain": [
       "(5, 3)"
      ]
     },
     "execution_count": 120,
     "metadata": {},
     "output_type": "execute_result"
    }
   ],
   "source": [
    "cabriolet.nombre_de_roues, mustang.nombre_de_roues"
   ]
  },
  {
   "cell_type": "code",
   "execution_count": 121,
   "id": "43c0ccf2",
   "metadata": {},
   "outputs": [
    {
     "data": {
      "text/plain": [
       "False"
      ]
     },
     "execution_count": 121,
     "metadata": {},
     "output_type": "execute_result"
    }
   ],
   "source": [
    "isinstance(2, str)"
   ]
  },
  {
   "cell_type": "code",
   "execution_count": 122,
   "id": "c5a14dca",
   "metadata": {},
   "outputs": [
    {
     "data": {
      "text/plain": [
       "True"
      ]
     },
     "execution_count": 122,
     "metadata": {},
     "output_type": "execute_result"
    }
   ],
   "source": [
    "isinstance(mustang, Voiture)"
   ]
  },
  {
   "cell_type": "code",
   "execution_count": null,
   "id": "c2945986",
   "metadata": {},
   "outputs": [],
   "source": []
  },
  {
   "cell_type": "code",
   "execution_count": null,
   "id": "a30eff71",
   "metadata": {},
   "outputs": [],
   "source": []
  },
  {
   "cell_type": "code",
   "execution_count": null,
   "id": "76185439",
   "metadata": {},
   "outputs": [],
   "source": []
  }
 ],
 "metadata": {
  "kernelspec": {
   "display_name": "Python 3",
   "language": "python",
   "name": "python3"
  },
  "language_info": {
   "codemirror_mode": {
    "name": "ipython",
    "version": 3
   },
   "file_extension": ".py",
   "mimetype": "text/x-python",
   "name": "python",
   "nbconvert_exporter": "python",
   "pygments_lexer": "ipython3",
   "version": "3.10.6"
  }
 },
 "nbformat": 4,
 "nbformat_minor": 5
}
