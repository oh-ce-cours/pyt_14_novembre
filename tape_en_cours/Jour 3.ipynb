{
 "cells": [
  {
   "cell_type": "markdown",
   "id": "93df4ce8",
   "metadata": {},
   "source": [
    "# Installation d'environnements\n",
    "\n",
    "* on utilise conda\n",
    "    * on liste les dépendances d'un projet : `conda list -e > requirements.txt`\n",
    "    * on les installe : `conda create --name <env> --file requirements.txt`\n",
    "    \n",
    "## Sans internet\n",
    "\n",
    "* on utilise un ordinateur qui a internet\n",
    "    * on installe les paquets nécessaires au projet \n",
    "    * solution 1 (pas terrible) : on peut copier le `site-packages` de l'environnement \n",
    "    * solution 2 (mieux) : https://thilinamad.medium.com/install-python-packages-via-pip-without-an-internet-connection-b3dee83b4c2d\n",
    "        * la clé pour installer tous les paquets : \n",
    "            * `pip download -r requirements.txt C:\\dossier\\ou\\on\\veut`\n",
    "            * `pip install --no-index --find-links=<local-folder> <package-name> `"
   ]
  },
  {
   "cell_type": "markdown",
   "id": "a4fa0b37",
   "metadata": {},
   "source": [
    "# Fonctions"
   ]
  },
  {
   "cell_type": "code",
   "execution_count": 13,
   "id": "a856c05b",
   "metadata": {},
   "outputs": [],
   "source": [
    "def f(x, debug=False):\n",
    "    if debug:\n",
    "        print(\"on debug\")\n",
    "    return 3*x + 2"
   ]
  },
  {
   "cell_type": "code",
   "execution_count": 7,
   "id": "c139d335",
   "metadata": {},
   "outputs": [
    {
     "name": "stdout",
     "output_type": "stream",
     "text": [
      "on debug\n"
     ]
    },
    {
     "data": {
      "text/plain": [
       "11"
      ]
     },
     "execution_count": 7,
     "metadata": {},
     "output_type": "execute_result"
    }
   ],
   "source": [
    "f(3, True)\n",
    "f(3, debug=True)\n",
    "f(x=3, debug=True)"
   ]
  },
  {
   "cell_type": "code",
   "execution_count": 12,
   "id": "819f843d",
   "metadata": {},
   "outputs": [
    {
     "name": "stdout",
     "output_type": "stream",
     "text": [
      "2--3--4--5\n"
     ]
    }
   ],
   "source": [
    "print(2, 3, 4, 5, sep=\"--\")"
   ]
  },
  {
   "cell_type": "code",
   "execution_count": 14,
   "id": "70dc6d3b",
   "metadata": {},
   "outputs": [
    {
     "data": {
      "text/plain": [
       "<function __main__.<lambda>(x)>"
      ]
     },
     "execution_count": 14,
     "metadata": {},
     "output_type": "execute_result"
    }
   ],
   "source": [
    "lambda x: 3*x+2"
   ]
  },
  {
   "cell_type": "code",
   "execution_count": 17,
   "id": "43c882a7",
   "metadata": {},
   "outputs": [],
   "source": [
    "ma_liste = [(3, \"r\"), (2, \"x\"), (1, 'a')]\n",
    "sorted?"
   ]
  },
  {
   "cell_type": "code",
   "execution_count": 19,
   "id": "eb95ec94",
   "metadata": {},
   "outputs": [
    {
     "data": {
      "text/plain": [
       "['a', 'z']"
      ]
     },
     "execution_count": 19,
     "metadata": {},
     "output_type": "execute_result"
    }
   ],
   "source": [
    "sorted([\"z\", \"a\"])"
   ]
  },
  {
   "cell_type": "markdown",
   "id": "0d577fc7",
   "metadata": {},
   "source": [
    "```\n",
    "def my_sorted(iterable, key=None, reverse=False):\n",
    "    for old_item, item in ...(iterable):\n",
    "        if key(old_item) < key(item):\n",
    "            swap\n",
    "        else:\n",
    "            pass \n",
    "```"
   ]
  },
  {
   "cell_type": "code",
   "execution_count": 40,
   "id": "c5985e89",
   "metadata": {},
   "outputs": [
    {
     "data": {
      "text/plain": [
       "[(2, 'x'), (3, 'r'), (1, 'a')]"
      ]
     },
     "execution_count": 40,
     "metadata": {},
     "output_type": "execute_result"
    }
   ],
   "source": [
    "import random \n",
    "\n",
    "ma_liste = [(3, \"r\"), (2, \"x\"), (1, 'a')]\n",
    "def ma_fonction(item):\n",
    "    # print(item)\n",
    "    return random.random()\n",
    "\n",
    "sorted(ma_liste, key=ma_fonction)"
   ]
  },
  {
   "cell_type": "code",
   "execution_count": 41,
   "id": "ee525bfd",
   "metadata": {},
   "outputs": [
    {
     "data": {
      "text/plain": [
       "[(1, 'a'), (3, 'r'), (2, 'x')]"
      ]
     },
     "execution_count": 41,
     "metadata": {},
     "output_type": "execute_result"
    }
   ],
   "source": [
    "import random \n",
    "\n",
    "ma_liste = [(3, \"r\"), (2, \"x\"), (1, 'a')]\n",
    "sorted(ma_liste, key=lambda x: x[1])"
   ]
  },
  {
   "cell_type": "code",
   "execution_count": 124,
   "id": "b0f30233",
   "metadata": {},
   "outputs": [],
   "source": [
    "class Vehicule:\n",
    "    def __init__(self):\n",
    "        self.son = \"vroum\"\n",
    "        self.etat = \"arretée\"\n",
    "\n",
    "class Voiture(Vehicule): # Véhicule est la classe mère\n",
    "    nombre_de_roues = 4 # variable de classe\n",
    "    \n",
    "    def __init__(self, couleur=\"blanc\"):\n",
    "        print(\"dans init\", self, couleur)\n",
    "        self.color = couleur\n",
    "    \n",
    "    def demarrer(self):\n",
    "        print(\"dans demarrer\", self)\n",
    "        self.etat = \"roule\"\n",
    "    \n",
    "    def repeindre(self, couleur):\n",
    "        self.color = couleur"
   ]
  },
  {
   "cell_type": "code",
   "execution_count": 114,
   "id": "e5244e95",
   "metadata": {},
   "outputs": [
    {
     "name": "stdout",
     "output_type": "stream",
     "text": [
      "dans init <__main__.Voiture object at 0x000002683E25A110> blanc\n",
      "dans init <__main__.Voiture object at 0x000002683E2594B0> beige\n",
      "<class '__main__.Voiture'>\n"
     ]
    }
   ],
   "source": [
    "cabriolet = Voiture() # on définit un objet, une instance de voiture\n",
    "mustang = Voiture(couleur=\"beige\")\n",
    "print(type(cabriolet))"
   ]
  },
  {
   "cell_type": "code",
   "execution_count": 115,
   "id": "0a8a2c3f",
   "metadata": {},
   "outputs": [
    {
     "name": "stdout",
     "output_type": "stream",
     "text": [
      "<__main__.Voiture object at 0x000002683E25A110>\n",
      "dans demarrer <__main__.Voiture object at 0x000002683E25A110>\n",
      "\n",
      "<__main__.Voiture object at 0x000002683E2594B0>\n",
      "dans demarrer <__main__.Voiture object at 0x000002683E2594B0>\n"
     ]
    }
   ],
   "source": [
    "print(cabriolet)\n",
    "cabriolet.demarrer()\n",
    "print(\"\")\n",
    "print(mustang)\n",
    "mustang.demarrer()"
   ]
  },
  {
   "cell_type": "code",
   "execution_count": 116,
   "id": "e43f1e56",
   "metadata": {},
   "outputs": [
    {
     "name": "stdout",
     "output_type": "stream",
     "text": [
      "blanc\n",
      "vert\n"
     ]
    }
   ],
   "source": [
    "print(cabriolet.color)\n",
    "cabriolet.color = \"vert\"\n",
    "print(cabriolet.color)"
   ]
  },
  {
   "cell_type": "code",
   "execution_count": 117,
   "id": "d0c20281",
   "metadata": {},
   "outputs": [
    {
     "name": "stdout",
     "output_type": "stream",
     "text": [
      "VROUMMMM\n",
      "vroum\n"
     ]
    }
   ],
   "source": [
    "cabriolet.son = \"VROUMMMM\"\n",
    "print(cabriolet.son)\n",
    "\n",
    "print(mustang.son)"
   ]
  },
  {
   "cell_type": "code",
   "execution_count": 118,
   "id": "b2a1e759",
   "metadata": {},
   "outputs": [
    {
     "name": "stdout",
     "output_type": "stream",
     "text": [
      "dans init <__main__.Voiture object at 0x000002683E25A2F0> blanc\n",
      "arretée\n",
      "dans demarrer <__main__.Voiture object at 0x000002683E25A2F0>\n",
      "roule\n"
     ]
    }
   ],
   "source": [
    "v = Voiture()\n",
    "print(v.etat)\n",
    "v.demarrer()\n",
    "print(v.etat)"
   ]
  },
  {
   "cell_type": "code",
   "execution_count": 119,
   "id": "37eefe49",
   "metadata": {},
   "outputs": [],
   "source": [
    "Voiture.nombre_de_roues = 3\n",
    "cabriolet.nombre_de_roues = 5"
   ]
  },
  {
   "cell_type": "code",
   "execution_count": 120,
   "id": "7fff9258",
   "metadata": {},
   "outputs": [
    {
     "data": {
      "text/plain": [
       "(5, 3)"
      ]
     },
     "execution_count": 120,
     "metadata": {},
     "output_type": "execute_result"
    }
   ],
   "source": [
    "cabriolet.nombre_de_roues, mustang.nombre_de_roues"
   ]
  },
  {
   "cell_type": "code",
   "execution_count": 121,
   "id": "0aa437f7",
   "metadata": {},
   "outputs": [
    {
     "data": {
      "text/plain": [
       "False"
      ]
     },
     "execution_count": 121,
     "metadata": {},
     "output_type": "execute_result"
    }
   ],
   "source": [
    "isinstance(2, str)"
   ]
  },
  {
   "cell_type": "code",
   "execution_count": 123,
   "id": "376448c6",
   "metadata": {},
   "outputs": [
    {
     "data": {
      "text/plain": [
       "(True, True)"
      ]
     },
     "execution_count": 123,
     "metadata": {},
     "output_type": "execute_result"
    }
   ],
   "source": [
    "isinstance(mustang, Voiture), isinstance(mustang, Vehicule)"
   ]
  },
  {
   "cell_type": "code",
   "execution_count": 125,
   "id": "447122b7",
   "metadata": {},
   "outputs": [],
   "source": [
    "class A:\n",
    "    def __init__(self):\n",
    "        print(\"dans init A\")\n",
    "    \n",
    "    def methode_A(self):\n",
    "        print(\"dans methode_A\")\n",
    "\n",
    "class B(A):\n",
    "    def __init__(self):\n",
    "        print(\"dans init B\")\n",
    "    \n",
    "    def methode_B(self):\n",
    "        print(\"dans methode_B\")"
   ]
  },
  {
   "cell_type": "code",
   "execution_count": null,
   "id": "558fa54d",
   "metadata": {},
   "outputs": [],
   "source": []
  },
  {
   "cell_type": "code",
   "execution_count": null,
   "id": "8ff713e9",
   "metadata": {},
   "outputs": [],
   "source": []
  }
 ],
 "metadata": {
  "kernelspec": {
   "display_name": "Python 3",
   "language": "python",
   "name": "python3"
  },
  "language_info": {
   "codemirror_mode": {
    "name": "ipython",
    "version": 3
   },
   "file_extension": ".py",
   "mimetype": "text/x-python",
   "name": "python",
   "nbconvert_exporter": "python",
   "pygments_lexer": "ipython3",
   "version": "3.10.6"
  }
 },
 "nbformat": 4,
 "nbformat_minor": 5
}
