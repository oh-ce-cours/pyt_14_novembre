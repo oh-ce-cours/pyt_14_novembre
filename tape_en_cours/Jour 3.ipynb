{
 "cells": [
  {
   "cell_type": "markdown",
   "id": "e808375a",
   "metadata": {},
   "source": [
    "# Installation d'environnements\n",
    "\n",
    "* on utilise conda\n",
    "    * on liste les dépendances d'un projet : `conda list -e > requirements.txt`\n",
    "    * on les installe : `conda create --name <env> --file requirements.txt`\n",
    "    \n",
    "## Sans internet\n",
    "\n",
    "* on utilise un ordinateur qui a internet\n",
    "    * on installe les paquets nécessaires au projet \n",
    "    * solution 1 (pas terrible) : on peut copier le `site-packages` de l'environnement \n",
    "    * solution 2 (mieux) : https://thilinamad.medium.com/install-python-packages-via-pip-without-an-internet-connection-b3dee83b4c2d\n",
    "        * la clé pour installer tous les paquets : \n",
    "            * `pip download -r requirements.txt C:\\dossier\\ou\\on\\veut`\n",
    "            * `pip install --no-index --find-links=<local-folder> <package-name> `"
   ]
  },
  {
   "cell_type": "markdown",
   "id": "8bea0d43",
   "metadata": {},
   "source": [
    "# Fonctions"
   ]
  },
  {
   "cell_type": "code",
   "execution_count": 13,
   "id": "9155aa23",
   "metadata": {},
   "outputs": [],
   "source": [
    "def f(x, debug=False):\n",
    "    if debug:\n",
    "        print(\"on debug\")\n",
    "    return 3*x + 2"
   ]
  },
  {
   "cell_type": "code",
   "execution_count": 7,
   "id": "22e16191",
   "metadata": {},
   "outputs": [
    {
     "name": "stdout",
     "output_type": "stream",
     "text": [
      "on debug\n"
     ]
    },
    {
     "data": {
      "text/plain": [
       "11"
      ]
     },
     "execution_count": 7,
     "metadata": {},
     "output_type": "execute_result"
    }
   ],
   "source": [
    "f(3, True)\n",
    "f(3, debug=True)\n",
    "f(x=3, debug=True)"
   ]
  },
  {
   "cell_type": "code",
   "execution_count": 12,
   "id": "849f99a1",
   "metadata": {},
   "outputs": [
    {
     "name": "stdout",
     "output_type": "stream",
     "text": [
      "2--3--4--5\n"
     ]
    }
   ],
   "source": [
    "print(2, 3, 4, 5, sep=\"--\")"
   ]
  },
  {
   "cell_type": "code",
   "execution_count": 14,
   "id": "ab3d0b82",
   "metadata": {},
   "outputs": [
    {
     "data": {
      "text/plain": [
       "<function __main__.<lambda>(x)>"
      ]
     },
     "execution_count": 14,
     "metadata": {},
     "output_type": "execute_result"
    }
   ],
   "source": [
    "lambda x: 3*x+2"
   ]
  },
  {
   "cell_type": "code",
   "execution_count": 17,
   "id": "7bb32932",
   "metadata": {},
   "outputs": [],
   "source": [
    "ma_liste = [(3, \"r\"), (2, \"x\"), (1, 'a')]\n",
    "sorted?"
   ]
  },
  {
   "cell_type": "code",
   "execution_count": 19,
   "id": "c925f10c",
   "metadata": {},
   "outputs": [
    {
     "data": {
      "text/plain": [
       "['a', 'z']"
      ]
     },
     "execution_count": 19,
     "metadata": {},
     "output_type": "execute_result"
    }
   ],
   "source": [
    "sorted([\"z\", \"a\"])"
   ]
  },
  {
   "cell_type": "code",
   "execution_count": null,
   "id": "c9fc94e1",
   "metadata": {},
   "outputs": [],
   "source": [
    "def my_sorted(iterable, key=None, reverse=False):\n",
    "    for old_item, item in ...(iterable):\n",
    "        if key(old_item) < key(item):\n",
    "            swap\n",
    "        else:\n",
    "            pass "
   ]
  }
 ],
 "metadata": {
  "kernelspec": {
   "display_name": "Python 3",
   "language": "python",
   "name": "python3"
  },
  "language_info": {
   "codemirror_mode": {
    "name": "ipython",
    "version": 3
   },
   "file_extension": ".py",
   "mimetype": "text/x-python",
   "name": "python",
   "nbconvert_exporter": "python",
   "pygments_lexer": "ipython3",
   "version": "3.10.6"
  }
 },
 "nbformat": 4,
 "nbformat_minor": 5
}
