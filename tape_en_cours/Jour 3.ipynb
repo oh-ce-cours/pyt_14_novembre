{
 "cells": [
  {
   "cell_type": "markdown",
   "id": "cd272fe6",
   "metadata": {},
   "source": [
    "# Installation d'environnements\n",
    "\n",
    "* on utilise conda\n",
    "    * on liste les dépendances d'un projet : `conda list -e > requirements.txt`\n",
    "    * on les installe : `conda create --name <env> --file requirements.txt`\n",
    "    \n",
    "## Sans internet\n",
    "\n",
    "* on utilise un ordinateur qui a internet\n",
    "    * on installe les paquets nécessaires au projet \n",
    "    * solution 1 (pas terrible) : on peut copier le `site-packages` de l'environnement \n",
    "    * solution 2 (mieux) : https://thilinamad.medium.com/install-python-packages-via-pip-without-an-internet-connection-b3dee83b4c2d\n",
    "        * la clé pour installer tous les paquets : \n",
    "            * `pip download -r requirements.txt C:\\dossier\\ou\\on\\veut`\n",
    "            * `pip install --no-index --find-links=<local-folder> <package-name> `"
   ]
  },
  {
   "cell_type": "markdown",
   "id": "42545950",
   "metadata": {},
   "source": [
    "# Fonctions"
   ]
  },
  {
   "cell_type": "code",
   "execution_count": 13,
   "id": "08fff11d",
   "metadata": {},
   "outputs": [],
   "source": [
    "def f(x, debug=False):\n",
    "    if debug:\n",
    "        print(\"on debug\")\n",
    "    return 3*x + 2"
   ]
  },
  {
   "cell_type": "code",
   "execution_count": 7,
   "id": "e5a05f84",
   "metadata": {},
   "outputs": [
    {
     "name": "stdout",
     "output_type": "stream",
     "text": [
      "on debug\n"
     ]
    },
    {
     "data": {
      "text/plain": [
       "11"
      ]
     },
     "execution_count": 7,
     "metadata": {},
     "output_type": "execute_result"
    }
   ],
   "source": [
    "f(3, True)\n",
    "f(3, debug=True)\n",
    "f(x=3, debug=True)"
   ]
  },
  {
   "cell_type": "code",
   "execution_count": 12,
   "id": "991e16c9",
   "metadata": {},
   "outputs": [
    {
     "name": "stdout",
     "output_type": "stream",
     "text": [
      "2--3--4--5\n"
     ]
    }
   ],
   "source": [
    "print(2, 3, 4, 5, sep=\"--\")"
   ]
  },
  {
   "cell_type": "code",
   "execution_count": 14,
   "id": "6dc086bb",
   "metadata": {},
   "outputs": [
    {
     "data": {
      "text/plain": [
       "<function __main__.<lambda>(x)>"
      ]
     },
     "execution_count": 14,
     "metadata": {},
     "output_type": "execute_result"
    }
   ],
   "source": [
    "lambda x: 3*x+2"
   ]
  },
  {
   "cell_type": "code",
   "execution_count": 17,
   "id": "81f44368",
   "metadata": {},
   "outputs": [],
   "source": [
    "ma_liste = [(3, \"r\"), (2, \"x\"), (1, 'a')]\n",
    "sorted?"
   ]
  },
  {
   "cell_type": "code",
   "execution_count": 19,
   "id": "ee8150d8",
   "metadata": {},
   "outputs": [
    {
     "data": {
      "text/plain": [
       "['a', 'z']"
      ]
     },
     "execution_count": 19,
     "metadata": {},
     "output_type": "execute_result"
    }
   ],
   "source": [
    "sorted([\"z\", \"a\"])"
   ]
  },
  {
   "cell_type": "markdown",
   "id": "a946baf4",
   "metadata": {},
   "source": [
    "```\n",
    "def my_sorted(iterable, key=None, reverse=False):\n",
    "    for old_item, item in ...(iterable):\n",
    "        if key(old_item) < key(item):\n",
    "            swap\n",
    "        else:\n",
    "            pass \n",
    "```"
   ]
  },
  {
   "cell_type": "code",
   "execution_count": 40,
   "id": "8721b7c8",
   "metadata": {},
   "outputs": [
    {
     "data": {
      "text/plain": [
       "[(2, 'x'), (3, 'r'), (1, 'a')]"
      ]
     },
     "execution_count": 40,
     "metadata": {},
     "output_type": "execute_result"
    }
   ],
   "source": [
    "import random \n",
    "\n",
    "ma_liste = [(3, \"r\"), (2, \"x\"), (1, 'a')]\n",
    "def ma_fonction(item):\n",
    "    # print(item)\n",
    "    return random.random()\n",
    "\n",
    "sorted(ma_liste, key=ma_fonction)"
   ]
  },
  {
   "cell_type": "code",
   "execution_count": 41,
   "id": "4abdb0a3",
   "metadata": {},
   "outputs": [
    {
     "data": {
      "text/plain": [
       "[(1, 'a'), (3, 'r'), (2, 'x')]"
      ]
     },
     "execution_count": 41,
     "metadata": {},
     "output_type": "execute_result"
    }
   ],
   "source": [
    "import random \n",
    "\n",
    "ma_liste = [(3, \"r\"), (2, \"x\"), (1, 'a')]\n",
    "sorted(ma_liste, key=lambda x: x[1])"
   ]
  },
  {
   "cell_type": "code",
   "execution_count": 85,
   "id": "244dec9d",
   "metadata": {},
   "outputs": [],
   "source": [
    "class Voiture:\n",
    "    \n",
    "    def __init__(self, couleur=\"blanc\"):\n",
    "        print(\"dans init\", self, couleur)\n",
    "        self.color = couleur\n",
    "        self.son = \"vroum\"\n",
    "        self.etat = \"arretée\"\n",
    "    \n",
    "    def demarrer(self):\n",
    "        print(\"dans demarrer\", self)\n",
    "        self.etat = \"roule\"\n",
    "    \n",
    "    def repeindre(self, couleur):\n",
    "        self.color = couleur"
   ]
  },
  {
   "cell_type": "code",
   "execution_count": 86,
   "id": "69be721d",
   "metadata": {},
   "outputs": [
    {
     "name": "stdout",
     "output_type": "stream",
     "text": [
      "dans init <__main__.Voiture object at 0x000002683E79D390> blanc\n",
      "dans init <__main__.Voiture object at 0x000002683E79D330> beige\n",
      "<class '__main__.Voiture'>\n"
     ]
    }
   ],
   "source": [
    "cabriolet = Voiture() # on définit un objet, une instance de voiture\n",
    "mustang = Voiture(couleur=\"beige\")\n",
    "print(type(cabriolet))"
   ]
  },
  {
   "cell_type": "code",
   "execution_count": 87,
   "id": "53d481c2",
   "metadata": {},
   "outputs": [
    {
     "name": "stdout",
     "output_type": "stream",
     "text": [
      "<__main__.Voiture object at 0x000002683E79D390>\n",
      "dans demarrer <__main__.Voiture object at 0x000002683E79D390>\n",
      "\n",
      "<__main__.Voiture object at 0x000002683E79D330>\n",
      "dans demarrer <__main__.Voiture object at 0x000002683E79D330>\n"
     ]
    }
   ],
   "source": [
    "print(cabriolet)\n",
    "cabriolet.demarrer()\n",
    "print(\"\")\n",
    "print(mustang)\n",
    "mustang.demarrer()"
   ]
  },
  {
   "cell_type": "code",
   "execution_count": 88,
   "id": "0a259622",
   "metadata": {},
   "outputs": [
    {
     "name": "stdout",
     "output_type": "stream",
     "text": [
      "blanc\n",
      "vert\n"
     ]
    }
   ],
   "source": [
    "print(cabriolet.color)\n",
    "cabriolet.color = \"vert\"\n",
    "print(cabriolet.color)"
   ]
  },
  {
   "cell_type": "code",
   "execution_count": 83,
   "id": "9409fc65",
   "metadata": {},
   "outputs": [
    {
     "name": "stdout",
     "output_type": "stream",
     "text": [
      "VROUMMMM\n",
      "vroum\n"
     ]
    }
   ],
   "source": [
    "cabriolet.son = \"VROUMMMM\"\n",
    "print(cabriolet.son)\n",
    "\n",
    "print(mustang.son)"
   ]
  },
  {
   "cell_type": "code",
   "execution_count": 92,
   "id": "6fdcad5e",
   "metadata": {},
   "outputs": [
    {
     "name": "stdout",
     "output_type": "stream",
     "text": [
      "dans init <__main__.Voiture object at 0x000002683E6D5300> blanc\n",
      "arretée\n",
      "dans demarrer <__main__.Voiture object at 0x000002683E6D5300>\n",
      "roule\n"
     ]
    }
   ],
   "source": [
    "v = Voiture()\n",
    "print(v.etat)\n",
    "v.demarrer()\n",
    "print(v.etat)"
   ]
  },
  {
   "cell_type": "code",
   "execution_count": null,
   "id": "c1c09ddb",
   "metadata": {},
   "outputs": [],
   "source": []
  }
 ],
 "metadata": {
  "kernelspec": {
   "display_name": "Python 3",
   "language": "python",
   "name": "python3"
  },
  "language_info": {
   "codemirror_mode": {
    "name": "ipython",
    "version": 3
   },
   "file_extension": ".py",
   "mimetype": "text/x-python",
   "name": "python",
   "nbconvert_exporter": "python",
   "pygments_lexer": "ipython3",
   "version": "3.10.6"
  }
 },
 "nbformat": 4,
 "nbformat_minor": 5
}
