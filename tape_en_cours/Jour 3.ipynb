{
 "cells": [
  {
   "cell_type": "markdown",
   "id": "88706f63",
   "metadata": {},
   "source": [
    "# Installation d'environnements\n",
    "\n",
    "* on utilise conda\n",
    "    * on liste les dépendances d'un projet : `conda list -e > requirements.txt`\n",
    "    * on les installe : `conda create --name <env> --file requirements.txt`\n",
    "    \n",
    "## Sans internet\n",
    "\n",
    "* on utilise un ordinateur qui a internet\n",
    "    * on installe les paquets nécessaires au projet \n",
    "    * solution 1 (pas terrible) : on peut copier le `site-packages` de l'environnement \n",
    "    * solution 2 (mieux) : https://thilinamad.medium.com/install-python-packages-via-pip-without-an-internet-connection-b3dee83b4c2d\n",
    "        * la clé pour installer tous les paquets : \n",
    "            * `pip download -r requirements.txt C:\\dossier\\ou\\on\\veut`\n",
    "            * `pip install --no-index --find-links=<local-folder> <package-name> `"
   ]
  },
  {
   "cell_type": "markdown",
   "id": "b0d4f2e2",
   "metadata": {},
   "source": [
    "# Fonctions"
   ]
  },
  {
   "cell_type": "code",
   "execution_count": 13,
   "id": "22f42031",
   "metadata": {},
   "outputs": [],
   "source": [
    "def f(x, debug=False):\n",
    "    if debug:\n",
    "        print(\"on debug\")\n",
    "    return 3*x + 2"
   ]
  },
  {
   "cell_type": "code",
   "execution_count": 7,
   "id": "6e7ae288",
   "metadata": {},
   "outputs": [
    {
     "name": "stdout",
     "output_type": "stream",
     "text": [
      "on debug\n"
     ]
    },
    {
     "data": {
      "text/plain": [
       "11"
      ]
     },
     "execution_count": 7,
     "metadata": {},
     "output_type": "execute_result"
    }
   ],
   "source": [
    "f(3, True)\n",
    "f(3, debug=True)\n",
    "f(x=3, debug=True)"
   ]
  },
  {
   "cell_type": "code",
   "execution_count": 12,
   "id": "3ef9eed4",
   "metadata": {},
   "outputs": [
    {
     "name": "stdout",
     "output_type": "stream",
     "text": [
      "2--3--4--5\n"
     ]
    }
   ],
   "source": [
    "print(2, 3, 4, 5, sep=\"--\")"
   ]
  },
  {
   "cell_type": "code",
   "execution_count": 14,
   "id": "dfde11de",
   "metadata": {},
   "outputs": [
    {
     "data": {
      "text/plain": [
       "<function __main__.<lambda>(x)>"
      ]
     },
     "execution_count": 14,
     "metadata": {},
     "output_type": "execute_result"
    }
   ],
   "source": [
    "lambda x: 3*x+2"
   ]
  },
  {
   "cell_type": "code",
   "execution_count": 17,
   "id": "dc864c12",
   "metadata": {},
   "outputs": [],
   "source": [
    "ma_liste = [(3, \"r\"), (2, \"x\"), (1, 'a')]\n",
    "sorted?"
   ]
  },
  {
   "cell_type": "code",
   "execution_count": 19,
   "id": "4356d3ce",
   "metadata": {},
   "outputs": [
    {
     "data": {
      "text/plain": [
       "['a', 'z']"
      ]
     },
     "execution_count": 19,
     "metadata": {},
     "output_type": "execute_result"
    }
   ],
   "source": [
    "sorted([\"z\", \"a\"])"
   ]
  },
  {
   "cell_type": "markdown",
   "id": "0143660c",
   "metadata": {},
   "source": [
    "```\n",
    "def my_sorted(iterable, key=None, reverse=False):\n",
    "    for old_item, item in ...(iterable):\n",
    "        if key(old_item) < key(item):\n",
    "            swap\n",
    "        else:\n",
    "            pass \n",
    "```"
   ]
  },
  {
   "cell_type": "code",
   "execution_count": 40,
   "id": "77814dc5",
   "metadata": {},
   "outputs": [
    {
     "data": {
      "text/plain": [
       "[(2, 'x'), (3, 'r'), (1, 'a')]"
      ]
     },
     "execution_count": 40,
     "metadata": {},
     "output_type": "execute_result"
    }
   ],
   "source": [
    "import random \n",
    "\n",
    "ma_liste = [(3, \"r\"), (2, \"x\"), (1, 'a')]\n",
    "def ma_fonction(item):\n",
    "    # print(item)\n",
    "    return random.random()\n",
    "\n",
    "sorted(ma_liste, key=ma_fonction)"
   ]
  },
  {
   "cell_type": "code",
   "execution_count": 41,
   "id": "4918e260",
   "metadata": {},
   "outputs": [
    {
     "data": {
      "text/plain": [
       "[(1, 'a'), (3, 'r'), (2, 'x')]"
      ]
     },
     "execution_count": 41,
     "metadata": {},
     "output_type": "execute_result"
    }
   ],
   "source": [
    "import random \n",
    "\n",
    "ma_liste = [(3, \"r\"), (2, \"x\"), (1, 'a')]\n",
    "sorted(ma_liste, key=lambda x: x[1])"
   ]
  },
  {
   "cell_type": "code",
   "execution_count": 160,
   "id": "a92f5a41",
   "metadata": {},
   "outputs": [],
   "source": [
    "class Vehicule:\n",
    "    def __init__(self):\n",
    "        self.son = \"vroum\"\n",
    "        self.etat = \"arretée\"\n",
    "\n",
    "class Moteur:\n",
    "    def __init__(self, cylindre):\n",
    "        self.cylindre = cylindre\n",
    "        \n",
    "class Voiture(Vehicule): # Véhicule est la classe mère\n",
    "    nombre_de_roues = 4 # variable de classe\n",
    "    \n",
    "    def __init__(self, couleur=\"blanc\"):\n",
    "        print(\"dans init\", self, couleur)\n",
    "        self.color = couleur\n",
    "        moteur = Moteur(4) # composition\n",
    "        self.moteur = moteur\n",
    "        super().__init__()\n",
    "    \n",
    "    def demarrer(self):\n",
    "        print(\"dans demarrer\", self)\n",
    "        self.etat = \"roule\"\n",
    "    \n",
    "    def repeindre(self, couleur):\n",
    "        self.color = couleur"
   ]
  },
  {
   "cell_type": "code",
   "execution_count": 163,
   "id": "65e769f8",
   "metadata": {},
   "outputs": [
    {
     "name": "stdout",
     "output_type": "stream",
     "text": [
      "dans init <__main__.Voiture object at 0x000002683E93E410> blanc\n",
      "dans init <__main__.Voiture object at 0x000002683E3D8D60> beige\n",
      "<class '__main__.Voiture'>\n",
      "4\n",
      "8\n"
     ]
    }
   ],
   "source": [
    "cabriolet = Voiture() # on définit un objet, une instance de voiture\n",
    "mustang = Voiture(couleur=\"beige\")\n",
    "print(type(cabriolet))\n",
    "\n",
    "print(mustang.moteur.cylindre)\n",
    "mustang.moteur = Moteur(8)\n",
    "print(mustang.moteur.cylindre)"
   ]
  },
  {
   "cell_type": "code",
   "execution_count": 159,
   "id": "b022a7a9",
   "metadata": {},
   "outputs": [
    {
     "name": "stdout",
     "output_type": "stream",
     "text": [
      "<__main__.Voiture object at 0x000002683E3D9210>\n",
      "dans demarrer <__main__.Voiture object at 0x000002683E3D9210>\n",
      "\n",
      "<__main__.Voiture object at 0x000002683E3DA560>\n",
      "dans demarrer <__main__.Voiture object at 0x000002683E3DA560>\n"
     ]
    }
   ],
   "source": [
    "print(cabriolet)\n",
    "cabriolet.demarrer()\n",
    "print(\"\")\n",
    "print(mustang)\n",
    "mustang.demarrer()"
   ]
  },
  {
   "cell_type": "code",
   "execution_count": 116,
   "id": "7b4468a7",
   "metadata": {},
   "outputs": [
    {
     "name": "stdout",
     "output_type": "stream",
     "text": [
      "blanc\n",
      "vert\n"
     ]
    }
   ],
   "source": [
    "print(cabriolet.color)\n",
    "cabriolet.color = \"vert\"\n",
    "print(cabriolet.color)"
   ]
  },
  {
   "cell_type": "code",
   "execution_count": 117,
   "id": "f9f9d277",
   "metadata": {},
   "outputs": [
    {
     "name": "stdout",
     "output_type": "stream",
     "text": [
      "VROUMMMM\n",
      "vroum\n"
     ]
    }
   ],
   "source": [
    "cabriolet.son = \"VROUMMMM\"\n",
    "print(cabriolet.son)\n",
    "\n",
    "print(mustang.son)"
   ]
  },
  {
   "cell_type": "code",
   "execution_count": 118,
   "id": "dca45c3f",
   "metadata": {},
   "outputs": [
    {
     "name": "stdout",
     "output_type": "stream",
     "text": [
      "dans init <__main__.Voiture object at 0x000002683E25A2F0> blanc\n",
      "arretée\n",
      "dans demarrer <__main__.Voiture object at 0x000002683E25A2F0>\n",
      "roule\n"
     ]
    }
   ],
   "source": [
    "v = Voiture()\n",
    "print(v.etat)\n",
    "v.demarrer()\n",
    "print(v.etat)"
   ]
  },
  {
   "cell_type": "code",
   "execution_count": 119,
   "id": "09972d2e",
   "metadata": {},
   "outputs": [],
   "source": [
    "Voiture.nombre_de_roues = 3\n",
    "cabriolet.nombre_de_roues = 5"
   ]
  },
  {
   "cell_type": "code",
   "execution_count": 120,
   "id": "4435de73",
   "metadata": {},
   "outputs": [
    {
     "data": {
      "text/plain": [
       "(5, 3)"
      ]
     },
     "execution_count": 120,
     "metadata": {},
     "output_type": "execute_result"
    }
   ],
   "source": [
    "cabriolet.nombre_de_roues, mustang.nombre_de_roues"
   ]
  },
  {
   "cell_type": "code",
   "execution_count": 121,
   "id": "2d2e9d64",
   "metadata": {},
   "outputs": [
    {
     "data": {
      "text/plain": [
       "False"
      ]
     },
     "execution_count": 121,
     "metadata": {},
     "output_type": "execute_result"
    }
   ],
   "source": [
    "isinstance(2, str)"
   ]
  },
  {
   "cell_type": "code",
   "execution_count": 123,
   "id": "03253147",
   "metadata": {},
   "outputs": [
    {
     "data": {
      "text/plain": [
       "(True, True)"
      ]
     },
     "execution_count": 123,
     "metadata": {},
     "output_type": "execute_result"
    }
   ],
   "source": [
    "isinstance(mustang, Voiture), isinstance(mustang, Vehicule)"
   ]
  },
  {
   "cell_type": "code",
   "execution_count": 144,
   "id": "e7a0ff6e",
   "metadata": {},
   "outputs": [],
   "source": [
    "class A:\n",
    "    def __init__(self):\n",
    "        print(\"dans init A\")\n",
    "    \n",
    "    def methode_A(self):\n",
    "        print(\"dans methode_A\")\n",
    "    \n",
    "    def methode_B(self):\n",
    "        print(\"dans methode_B de A\")\n",
    "        \n",
    "class B(A):\n",
    "    def __init__(self):\n",
    "        print(\"dans init B\")\n",
    "        super().__init__()\n",
    "        \n",
    "    def methode_B(self):\n",
    "        super().methode_B()\n",
    "        print(\"dans methode_B\")"
   ]
  },
  {
   "cell_type": "code",
   "execution_count": 142,
   "id": "8c42a8f5",
   "metadata": {},
   "outputs": [
    {
     "name": "stdout",
     "output_type": "stream",
     "text": [
      "dans init A\n"
     ]
    }
   ],
   "source": [
    "a = A()"
   ]
  },
  {
   "cell_type": "code",
   "execution_count": 143,
   "id": "39407829",
   "metadata": {},
   "outputs": [
    {
     "name": "stdout",
     "output_type": "stream",
     "text": [
      "dans init A\n",
      "dans init B\n",
      "dans init A\n",
      "dans methode_B\n",
      "dans methode_A\n"
     ]
    }
   ],
   "source": [
    "b = B()\n",
    "b.methode_B()\n",
    "b.methode_A()"
   ]
  },
  {
   "cell_type": "markdown",
   "id": "9460c680",
   "metadata": {},
   "source": [
    "# Copy"
   ]
  },
  {
   "cell_type": "code",
   "execution_count": 172,
   "id": "f49d446a",
   "metadata": {},
   "outputs": [
    {
     "name": "stdout",
     "output_type": "stream",
     "text": [
      "[1, 2, 3] [1, 2, 3]\n",
      "[22, 2, 3] [22, 2, 3]\n",
      "2646702238400 2646702238400\n",
      "2646627648400 2646627648400\n"
     ]
    }
   ],
   "source": [
    "a = [1, 2, 3]\n",
    "b = a\n",
    "\n",
    "print(a, b)\n",
    "\n",
    "a[0] = 22\n",
    "print(a, b)\n",
    "print(id(a), id(b))\n",
    "print(id(a[0]), id(b[0]))"
   ]
  },
  {
   "cell_type": "code",
   "execution_count": 173,
   "id": "680d9476",
   "metadata": {},
   "outputs": [
    {
     "name": "stdout",
     "output_type": "stream",
     "text": [
      "[1, 2, 3] [1, 2, 3]\n",
      "[22, 2, 3] [1, 2, 3]\n",
      "2646748070144 2646748014976\n",
      "2646627648400 2646627647728\n"
     ]
    }
   ],
   "source": [
    "import copy\n",
    "\n",
    "a = [1, 2, 3]\n",
    "b = copy.copy(a)\n",
    "\n",
    "print(a, b)\n",
    "\n",
    "a[0] = 22\n",
    "print(a, b)\n",
    "\n",
    "print(id(a), id(b))\n",
    "print(id(a[0]), id(b[0]))"
   ]
  },
  {
   "cell_type": "code",
   "execution_count": 187,
   "id": "d9480d83",
   "metadata": {
    "scrolled": true
   },
   "outputs": [
    {
     "name": "stdout",
     "output_type": "stream",
     "text": [
      "[[1], [2], [3]] [[1], [2], [3]]\n",
      "[[22], [2], [3]] [[1], [2], [3]]\n",
      "2646707790592 2646746567552\n",
      "2646752164672 2646742774336\n"
     ]
    }
   ],
   "source": [
    "import copy\n",
    "\n",
    "a = [\n",
    "    [1], [2], [3]\n",
    "]\n",
    "b = copy.deepcopy(a)\n",
    "\n",
    "print(a, b)\n",
    "\n",
    "a[0][0] = 22\n",
    "print(a, b)\n",
    "\n",
    "print(id(a), id(b))\n",
    "print(id(a[0]), id(b[0]))"
   ]
  },
  {
   "cell_type": "code",
   "execution_count": 185,
   "id": "6a7f72e0",
   "metadata": {},
   "outputs": [
    {
     "name": "stdout",
     "output_type": "stream",
     "text": [
      "[[0. 1. 2. 3. 4.]\n",
      " [1. 2. 3. 4. 5.]\n",
      " [2. 3. 4. 5. 6.]\n",
      " [3. 4. 5. 6. 7.]\n",
      " [4. 5. 6. 7. 8.]]\n"
     ]
    }
   ],
   "source": [
    "import numpy as np\n",
    "\n",
    "\n",
    "def calcul():\n",
    "    res = np.zeros((3, 3))\n",
    "    res = sinus_cardinal([1, 2, 3], [1, 2, 3])\n",
    "    return res\n",
    "\n",
    "def sinus_cardinal(x, y):\n",
    "    res = np.zeros((len(x), len(y)))\n",
    "    for i in range(res.shape[0]):\n",
    "        for j in range(res.shape[1]):\n",
    "            res[i, j] = i + j\n",
    "    return res\n",
    "\n",
    "print(f())"
   ]
  },
  {
   "cell_type": "code",
   "execution_count": 189,
   "id": "1277d497",
   "metadata": {},
   "outputs": [
    {
     "name": "stdout",
     "output_type": "stream",
     "text": [
      "salut  2646752320304\n",
      "salut les copains 2646680046928\n"
     ]
    }
   ],
   "source": [
    "a = \"salut \"\n",
    "print(a, id(a))\n",
    "a += \"les copains\"\n",
    "print(a, id(a))"
   ]
  },
  {
   "cell_type": "code",
   "execution_count": 193,
   "id": "b125c12b",
   "metadata": {},
   "outputs": [
    {
     "data": {
      "text/plain": [
       "'salut---les copains'"
      ]
     },
     "execution_count": 193,
     "metadata": {},
     "output_type": "execute_result"
    }
   ],
   "source": [
    "\"---\".join([\"salut\", \"les copains\"])"
   ]
  },
  {
   "cell_type": "code",
   "execution_count": 195,
   "id": "57ca87d5",
   "metadata": {},
   "outputs": [
    {
     "name": "stdout",
     "output_type": "stream",
     "text": [
      "2 1\n"
     ]
    }
   ],
   "source": [
    "a = 1\n",
    "b = 2\n",
    "a, b = b, a \n",
    "print(a, b)"
   ]
  },
  {
   "cell_type": "code",
   "execution_count": 202,
   "id": "b37867a0",
   "metadata": {},
   "outputs": [
    {
     "ename": "TypeError",
     "evalue": "f2() missing 1 required positional argument: 'a'",
     "output_type": "error",
     "traceback": [
      "\u001b[1;31m---------------------------------------------------------------------------\u001b[0m",
      "\u001b[1;31mTypeError\u001b[0m                                 Traceback (most recent call last)",
      "\u001b[1;32m~\\AppData\\Local\\Temp\\ipykernel_9948\\2323994661.py\u001b[0m in \u001b[0;36m<module>\u001b[1;34m\u001b[0m\n\u001b[0;32m     11\u001b[0m     \u001b[1;32mreturn\u001b[0m \u001b[0ma\u001b[0m\u001b[1;33m\u001b[0m\u001b[1;33m\u001b[0m\u001b[0m\n\u001b[0;32m     12\u001b[0m \u001b[1;33m\u001b[0m\u001b[0m\n\u001b[1;32m---> 13\u001b[1;33m \u001b[0mb\u001b[0m \u001b[1;33m=\u001b[0m \u001b[0mf2\u001b[0m\u001b[1;33m(\u001b[0m\u001b[1;36m5\u001b[0m\u001b[1;33m)\u001b[0m\u001b[1;33m\u001b[0m\u001b[1;33m\u001b[0m\u001b[0m\n\u001b[0m\u001b[0;32m     14\u001b[0m \u001b[0mprint\u001b[0m\u001b[1;33m(\u001b[0m\u001b[0mb\u001b[0m\u001b[1;33m)\u001b[0m\u001b[1;33m\u001b[0m\u001b[1;33m\u001b[0m\u001b[0m\n\u001b[0;32m     15\u001b[0m \u001b[1;33m\u001b[0m\u001b[0m\n",
      "\u001b[1;31mTypeError\u001b[0m: f2() missing 1 required positional argument: 'a'"
     ]
    }
   ],
   "source": [
    "def f(value, a=[]):\n",
    "    print(id(a))\n",
    "    a.append(value)\n",
    "    return a\n",
    "\n",
    "def f2(value, a=None):\n",
    "    if a is None:\n",
    "        a = []\n",
    "    print(id(a))\n",
    "    a.append(value)\n",
    "    return a\n",
    "\n",
    "b = f2(5)\n",
    "print(b)\n",
    "\n",
    "c = f2(6)\n",
    "print(b, c)"
   ]
  },
  {
   "cell_type": "code",
   "execution_count": 199,
   "id": "1ff5fa30",
   "metadata": {},
   "outputs": [
    {
     "name": "stdout",
     "output_type": "stream",
     "text": [
      "toto\n"
     ]
    }
   ],
   "source": [
    "def f(a=print(\"toto\")):\n",
    "    print(\"dans a\")"
   ]
  },
  {
   "cell_type": "code",
   "execution_count": 208,
   "id": "4cd59190",
   "metadata": {},
   "outputs": [
    {
     "name": "stdout",
     "output_type": "stream",
     "text": [
      "140729758539392\n"
     ]
    }
   ],
   "source": [
    "ezfrtyukilikjy = None\n",
    "print(id(ezfrtyukilikjy))"
   ]
  },
  {
   "cell_type": "code",
   "execution_count": 1,
   "id": "bfcab279",
   "metadata": {},
   "outputs": [
    {
     "ename": "TypeError",
     "evalue": "unsupported operand type(s) for +: 'int' and 'str'",
     "output_type": "error",
     "traceback": [
      "\u001b[1;31m---------------------------------------------------------------------------\u001b[0m",
      "\u001b[1;31mTypeError\u001b[0m                                 Traceback (most recent call last)",
      "\u001b[1;32m~\\AppData\\Local\\Temp\\ipykernel_2456\\581437108.py\u001b[0m in \u001b[0;36m<module>\u001b[1;34m\u001b[0m\n\u001b[1;32m----> 1\u001b[1;33m \u001b[1;36m1\u001b[0m \u001b[1;33m+\u001b[0m \u001b[1;34m\"1\"\u001b[0m\u001b[1;33m\u001b[0m\u001b[1;33m\u001b[0m\u001b[0m\n\u001b[0m",
      "\u001b[1;31mTypeError\u001b[0m: unsupported operand type(s) for +: 'int' and 'str'"
     ]
    }
   ],
   "source": [
    "1 + \"1\""
   ]
  },
  {
   "cell_type": "code",
   "execution_count": 2,
   "id": "1d4a05df",
   "metadata": {},
   "outputs": [
    {
     "data": {
      "text/plain": [
       "[0, 1, 4, 9, 16, 25, 36, 49, 64, 81]"
      ]
     },
     "execution_count": 2,
     "metadata": {},
     "output_type": "execute_result"
    }
   ],
   "source": [
    "[i*i for i in range(10)]"
   ]
  },
  {
   "cell_type": "markdown",
   "id": "39f3d5e0",
   "metadata": {},
   "source": [
    "# Oscilloscope \n",
    "\n",
    "* https://github.com/sgoadhouse/oscope-scpi/tree/f838073b9d800f672c2ae2cf2282ed974d59b69f\n",
    "* https://xdevs.com/doc/HP_Agilent_Keysight/Programmer%27s%20Guide%20for%20InfiniiVision%203000%20X-Series%20Oscilloscopes%20%28PDF%29%203000_series_prog_guide%20c20141023%20%5B1270%5D.pdf\n",
    "* https://github.com/sgoadhouse/msox3000\n",
    "* https://github.com/tektronix/Programmatic-Control-Examples\n",
    "* https://github.com/tektronix/Programmatic-Control-Examples/blob/66cee6cb38501f6a06190cb973e1187d3634e24d/Examples/Oscilloscopes/TekSeriesScopes_HighSpeedDigitizers/src/ReadWfmExample"
   ]
  },
  {
   "cell_type": "code",
   "execution_count": 10,
   "id": "bd67b196",
   "metadata": {},
   "outputs": [
    {
     "data": {
      "text/plain": [
       "[<matplotlib.lines.Line2D at 0x2a63c563880>]"
      ]
     },
     "execution_count": 10,
     "metadata": {},
     "output_type": "execute_result"
    },
    {
     "data": {
      "image/png": "[encoded data removed]",
      "text/plain": [
       "<Figure size 640x480 with 1 Axes>"
      ]
     },
     "metadata": {},
     "output_type": "display_data"
    }
   ],
   "source": [
    "import numpy as np\n",
    "import matplotlib.pyplot as plt\n",
    "\n",
    "xs = np.linspace(-2*np.pi, 2*np.pi, 100)\n",
    "ys = np.cos(xs)\n",
    "plt.plot(xs, ys)\n"
   ]
  },
  {
   "cell_type": "code",
   "execution_count": null,
   "id": "327907f9",
   "metadata": {},
   "outputs": [],
   "source": []
  }
 ],
 "metadata": {
  "kernelspec": {
   "display_name": "Python 3",
   "language": "python",
   "name": "python3"
  },
  "language_info": {
   "codemirror_mode": {
    "name": "ipython",
    "version": 3
   },
   "file_extension": ".py",
   "mimetype": "text/x-python",
   "name": "python",
   "nbconvert_exporter": "python",
   "pygments_lexer": "ipython3",
   "version": "3.10.6"
  }
 },
 "nbformat": 4,
 "nbformat_minor": 5
}
