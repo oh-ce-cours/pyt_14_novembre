{
 "cells": [
  {
   "cell_type": "markdown",
   "id": "acfe84f6",
   "metadata": {},
   "source": [
    "# Installation d'environnements\n",
    "\n",
    "* on utilise conda\n",
    "    * "
   ]
  },
  {
   "cell_type": "code",
   "execution_count": 2,
   "id": "9902204c",
   "metadata": {},
   "outputs": [
    {
     "data": {
      "text/plain": [
       "'salut'"
      ]
     },
     "execution_count": 2,
     "metadata": {},
     "output_type": "execute_result"
    }
   ],
   "source": [
    "\"salut\""
   ]
  },
  {
   "cell_type": "code",
   "execution_count": null,
   "id": "31f32d34",
   "metadata": {},
   "outputs": [],
   "source": []
  }
 ],
 "metadata": {
  "kernelspec": {
   "display_name": "Python 3",
   "language": "python",
   "name": "python3"
  },
  "language_info": {
   "codemirror_mode": {
    "name": "ipython",
    "version": 3
   },
   "file_extension": ".py",
   "mimetype": "text/x-python",
   "name": "python",
   "nbconvert_exporter": "python",
   "pygments_lexer": "ipython3",
   "version": "3.10.6"
  }
 },
 "nbformat": 4,
 "nbformat_minor": 5
}
