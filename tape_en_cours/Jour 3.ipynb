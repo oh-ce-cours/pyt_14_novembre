{
 "cells": [
  {
   "cell_type": "markdown",
   "id": "874347cc",
   "metadata": {},
   "source": [
    "# Installation d'environnements\n",
    "\n",
    "* on utilise conda\n",
    "    * on liste les dépendances d'un projet : `conda list -e > requirements.txt`\n",
    "    * on les installe : `conda create --name <env> --file requirements.txt`\n",
    "    \n",
    "## Sans internet\n",
    "\n",
    "* on utilise un ordinateur qui a internet\n",
    "    * on installe les paquets nécessaires au projet \n",
    "    * solution 1 (pas terrible) : on peut copier le `site-packages` de l'environnement \n",
    "    * solution 2 (mieux) : https://thilinamad.medium.com/install-python-packages-via-pip-without-an-internet-connection-b3dee83b4c2d\n",
    "        * la clé pour installer tous les paquets : \n",
    "            * `pip download -r requirements.txt C:\\dossier\\ou\\on\\veut`\n",
    "            * `pip install --no-index --find-links=<local-folder> <package-name> `"
   ]
  },
  {
   "cell_type": "code",
   "execution_count": 2,
   "id": "23feb281",
   "metadata": {},
   "outputs": [
    {
     "data": {
      "text/plain": [
       "'salut'"
      ]
     },
     "execution_count": 2,
     "metadata": {},
     "output_type": "execute_result"
    }
   ],
   "source": [
    "\"salut\""
   ]
  },
  {
   "cell_type": "code",
   "execution_count": null,
   "id": "4d6b1838",
   "metadata": {},
   "outputs": [],
   "source": []
  }
 ],
 "metadata": {
  "kernelspec": {
   "display_name": "Python 3",
   "language": "python",
   "name": "python3"
  },
  "language_info": {
   "codemirror_mode": {
    "name": "ipython",
    "version": 3
   },
   "file_extension": ".py",
   "mimetype": "text/x-python",
   "name": "python",
   "nbconvert_exporter": "python",
   "pygments_lexer": "ipython3",
   "version": "3.10.6"
  }
 },
 "nbformat": 4,
 "nbformat_minor": 5
}
