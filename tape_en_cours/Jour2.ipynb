{
 "cells": [
  {
   "cell_type": "markdown",
   "id": "7b01edbc-2142-4ac1-a241-6379b1269b32",
   "metadata": {},
   "source": [
    "## Switch case"
   ]
  },
  {
   "cell_type": "code",
   "execution_count": 2,
   "id": "386a0ed4-5597-4df8-a4ec-1a66e4ecb5d3",
   "metadata": {},
   "outputs": [
    {
     "name": "stdout",
     "output_type": "stream",
     "text": [
      "A gauche\n"
     ]
    }
   ],
   "source": [
    "direction = \"gauche\"\n",
    "match direction:\n",
    "    case \"gauche\": print(\"A gauche\")\n",
    "    case \"droite\": print(\"A droite\")"
   ]
  },
  {
   "cell_type": "code",
   "execution_count": null,
   "id": "15e4e4ae-b66d-4782-a351-25a709780209",
   "metadata": {},
   "outputs": [],
   "source": []
  }
 ],
 "metadata": {
  "kernelspec": {
   "display_name": "Python 3",
   "language": "python",
   "name": "python3"
  },
  "language_info": {
   "codemirror_mode": {
    "name": "ipython",
    "version": 3
   },
   "file_extension": ".py",
   "mimetype": "text/x-python",
   "name": "python",
   "nbconvert_exporter": "python",
   "pygments_lexer": "ipython3",
   "version": "3.10.6"
  }
 },
 "nbformat": 4,
 "nbformat_minor": 5
}
